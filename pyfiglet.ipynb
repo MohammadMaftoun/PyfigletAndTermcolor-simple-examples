{
 "cells": [
  {
   "cell_type": "code",
   "execution_count": 1,
   "metadata": {},
   "outputs": [
    {
     "name": "stdout",
     "output_type": "stream",
     "text": [
      " _   _      _ _       \n",
      "| | | | ___| | | ___  \n",
      "| |_| |/ _ \\ | |/ _ \\ \n",
      "|  _  |  __/ | | (_) |\n",
      "|_| |_|\\___|_|_|\\___/ \n",
      "                      \n",
      "\n"
     ]
    }
   ],
   "source": [
    "import pyfiglet\n",
    "text=pyfiglet.figlet_format(\"Hello\")\n",
    "print(text)"
   ]
  },
  {
   "cell_type": "code",
   "execution_count": 9,
   "metadata": {},
   "outputs": [
    {
     "name": "stdout",
     "output_type": "stream",
     "text": [
      "\u001b[32m__        __   _                          \n",
      "\\ \\      / /__| | ___ ___  _ __ ___   ___ \n",
      " \\ \\ /\\ / / _ \\ |/ __/ _ \\| '_ ` _ \\ / _ \\\n",
      "  \\ V  V /  __/ | (_| (_) | | | | | |  __/\n",
      "   \\_/\\_/ \\___|_|\\___\\___/|_| |_| |_|\\___|\n",
      "                                          \n",
      "\u001b[0m\n"
     ]
    }
   ],
   "source": [
    "from termcolor import colored\n",
    "text2=colored(pyfiglet.figlet_format(\"Welcome\"),'green')\n",
    "print(text2)"
   ]
  }
 ],
 "metadata": {
  "kernelspec": {
   "display_name": "Python 3.9.7 64-bit",
   "language": "python",
   "name": "python3"
  },
  "language_info": {
   "codemirror_mode": {
    "name": "ipython",
    "version": 3
   },
   "file_extension": ".py",
   "mimetype": "text/x-python",
   "name": "python",
   "nbconvert_exporter": "python",
   "pygments_lexer": "ipython3",
   "version": "3.9.7"
  },
  "orig_nbformat": 4,
  "vscode": {
   "interpreter": {
    "hash": "7d19c0c56199c1b03de16dba6b786753e1747aa70d7f010787518324a485bdda"
   }
  }
 },
 "nbformat": 4,
 "nbformat_minor": 2
}
